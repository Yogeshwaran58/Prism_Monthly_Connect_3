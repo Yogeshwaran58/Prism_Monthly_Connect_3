{
 "cells": [
  {
   "cell_type": "code",
   "execution_count": 1,
   "id": "7c0ba616",
   "metadata": {},
   "outputs": [],
   "source": [
    "import cv2\n",
    "import numpy as np"
   ]
  },
  {
   "cell_type": "code",
   "execution_count": 2,
   "id": "2df98f1f",
   "metadata": {},
   "outputs": [],
   "source": [
    "def swap_regions(image_path_1, image_path_2, bbox1, bbox2, save_path_1, save_path_2):\n",
    "    \"\"\"\n",
    "    Swaps regions defined by bbox1 and bbox2 in the image and draws bounding boxes around them.\n",
    "\n",
    "    Parameters:\n",
    "    - image_path: Path to the image file.\n",
    "    - bbox1: Tuple (x1, y1, x2, y2) defining the first bounding box. (top-left and bottom-right corners)\n",
    "    - bbox2: Tuple (x1, y1, x2, y2) defining the second bounding box. (top-left and bottom-right corners)\n",
    "    - save_path: Path where the modified image will be saved.\n",
    "    \"\"\"\n",
    "    # Load the image\n",
    "    image1 = cv2.imread(image_path_1)\n",
    "    image2 = cv2.imread(image_path_2)\n",
    "\n",
    "    if image1 is None or image2 is None:\n",
    "        raise ValueError(\"Could not load the image. Check the image path.\")\n",
    "\n",
    "    # Extract regions defined by the bounding boxes\n",
    "    region1 = image1[bbox1[1]:bbox1[3], bbox1[0]:bbox1[2]].copy()\n",
    "    region2 = image2[bbox2[1]:bbox2[3], bbox2[0]:bbox2[2]].copy()\n",
    "\n",
    "    # Swap the regions\n",
    "    image1[bbox1[1]:bbox1[3], bbox1[0]:bbox1[2]] = region2\n",
    "    image2[bbox2[1]:bbox2[3], bbox2[0]:bbox2[2]] = region1\n",
    "\n",
    "    # Draw bounding boxes on the image to highlight the swapped regions\n",
    "    cv2.rectangle(image1, bbox1[:2], (bbox1[2], bbox1[3]), (0, 255, 0), 2)\n",
    "    cv2.rectangle(image2, bbox2[:2], (bbox2[2], bbox2[3]), (0, 255, 0), 2)\n",
    "\n",
    "    # Save the modified image to the specified path\n",
    "    cv2.imwrite(save_path_1, image1)\n",
    "    cv2.imwrite(save_path_2, image2)"
   ]
  },
  {
   "cell_type": "code",
   "execution_count": 3,
   "id": "c710cee1",
   "metadata": {},
   "outputs": [],
   "source": [
    "swap_regions(\n",
    "    r\"C:\\content\\Image_Patch_Swapping\\4.jpg\",    # Replace with your image path\n",
    "    r\"C:\\content\\Image_Patch_Swapping\\5.jpg\",\n",
    "    (960, 64, 1064, 192),        # Coordinates for the first bounding box\n",
    "    (800, 88, 904, 216),        # Coordinates for the second bounding box\n",
    "    r\"C:\\content\\Image_Patch_Swapping\\Swap_1.jpg\",  # Replace with your desired save path\n",
    "    r\"C:\\content\\Image_Patch_Swapping\\Swap_2.jpg\"\n",
    ")"
   ]
  },
  {
   "cell_type": "code",
   "execution_count": null,
   "id": "a0de5cc9",
   "metadata": {},
   "outputs": [],
   "source": []
  }
 ],
 "metadata": {
  "kernelspec": {
   "display_name": "Python 3 (ipykernel)",
   "language": "python",
   "name": "python3"
  },
  "language_info": {
   "codemirror_mode": {
    "name": "ipython",
    "version": 3
   },
   "file_extension": ".py",
   "mimetype": "text/x-python",
   "name": "python",
   "nbconvert_exporter": "python",
   "pygments_lexer": "ipython3",
   "version": "3.7.16"
  }
 },
 "nbformat": 4,
 "nbformat_minor": 5
}
