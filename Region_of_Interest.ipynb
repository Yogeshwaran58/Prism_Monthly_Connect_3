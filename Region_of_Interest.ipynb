{
 "cells": [
  {
   "cell_type": "code",
   "execution_count": 83,
   "id": "1098063d",
   "metadata": {},
   "outputs": [
    {
     "name": "stdout",
     "output_type": "stream",
     "text": [
      "Bounding region drawn and image saved at C:\\content\\Image_Patch_Swapping\\ROI_.jpg.\n"
     ]
    }
   ],
   "source": [
    "import json\n",
    "import os\n",
    "import cv2\n",
    "import numpy as np\n",
    "\n",
    "# Replace with the actual directory path where your JSON files are stored\n",
    "json_directory_path = \"F:\\\\Icon Detection\\\\myvenv\\\\final_annotations\\\\Total\"\n",
    "icon_name = \"call\"\n",
    "\n",
    "# Lists to store the coordinates\n",
    "list_1 = []  # Will store (xmin, ymin) coordinates\n",
    "list_2 = []  # Will store (xmax, ymax) coordinates\n",
    "x=[]\n",
    "y=[]\n",
    "NOTED=[]\n",
    "list_1l = []  # Will store (xmin, ymin) coordinates\n",
    "list_2l = []  # Will store (xmax, ymax) coordinates\n",
    "\n",
    "# Iterating over each JSON file in the directory\n",
    "for json_filename in os.listdir(json_directory_path):\n",
    "    if json_filename.endswith('.json'):\n",
    "        json_path = os.path.join(json_directory_path, json_filename)\n",
    "        with open(json_path, 'r') as json_file:\n",
    "            data = json.load(json_file)\n",
    "            if 'object' in data['outputs'] and data['outputs']['object']:\n",
    "                for icon in data['outputs']['object']:\n",
    "                    if icon['name'] == icon_name:\n",
    "                        image_path=\"F:\\\\Icon Detection\\\\myvenv\\\\datasets\\\\images\\\\total\\\\\" + json_filename[:-5] +\".jpg\"\n",
    "                        image = cv2.imread(image_path)\n",
    "                        height, width = image.shape[:2]\n",
    "#                         if width == 1920 and height == 1080:\n",
    "#                             xminl, yminl = icon['bndbox']['xmin'], icon['bndbox']['ymin']\n",
    "#                             xmaxl, ymaxl = icon['bndbox']['xmax'], icon['bndbox']['ymax']\n",
    "#                             list_1l.append((xminl, yminl))\n",
    "#                             list_2l.append((xmaxl, ymaxl))\n",
    "#                             NOTED.append(json_filename)\n",
    "#                         else:\n",
    "                        xmin, ymin = icon['bndbox']['xmin'], icon['bndbox']['ymin']\n",
    "                        xmax, ymax = icon['bndbox']['xmax'], icon['bndbox']['ymax']\n",
    "                        if xmin <=0 or ymin <= 0:\n",
    "                            xmin = 10\n",
    "                            ymin = 10\n",
    "                        elif xmax >= 1080 or ymax >= 1920:\n",
    "                            \n",
    "                            xmax = 1070\n",
    "                            ymax = 1910\n",
    "                        x.append(xmin)\n",
    "                        x.append(xmax)\n",
    "                        y.append(ymin)\n",
    "                        y.append(ymax)\n",
    "                        #NOTED.append(json_filename)\n",
    "                        list_1.append((xmin, ymin))\n",
    "                        list_2.append((xmax, ymax))\n",
    "\n",
    "b=[]                            \n",
    "b.append([min(x),min(y)])\n",
    "b.append([min(x),max(y)])\n",
    "b.append([max(x),min(y)])\n",
    "b.append([max(x),max(y)])\n",
    "\n",
    "# Load your image\n",
    "image_path = r\"F:\\Icon Detection\\myvenv\\datasets\\images\\total\\472.jpg\"  # Replace with your image path\n",
    "image = cv2.imread(image_path)\n",
    "\n",
    "# Check if the image was loaded correctly\n",
    "if image is None:\n",
    "    raise FileNotFoundError(\"The image file was not found or could not be loaded.\")\n",
    "\n",
    "# Assuming b contains coordinates in the order you provided, but let's correct the order to draw a rectangle\n",
    "# Let's assume your min and max x and y values are correctly calculated and stored in list b\n",
    "# For example, b might look like this after calculating min and max: \n",
    "# b = [[min_x, min_y], [min_x, max_y], [max_x, min_y], [max_x, max_y]]\n",
    "# But for drawing, we need to ensure the points are in the correct order to outline a rectangle\n",
    "b_correct_order = [b[0], b[2], b[3], b[1]]  # This rearranges the points\n",
    "\n",
    "# Convert points to a numpy array, reshape it as required by polylines\n",
    "pts = np.array(b_correct_order, np.int32)\n",
    "pts = pts.reshape((-1, 1, 2))\n",
    "\n",
    "# Draw the bounding region\n",
    "cv2.polylines(image, [pts], isClosed=True, color=(0, 255, 0), thickness=2)\n",
    "\n",
    "# Save the image with the bounding region\n",
    "output_image_path = r\"C:\\content\\Image_Patch_Swapping\\ROI_.jpg\"# Replace with your desired save path\n",
    "cv2.imwrite(output_image_path, image)\n",
    "\n",
    "print(f\"Bounding region drawn and image saved at {output_image_path}.\")"
   ]
  },
  {
   "cell_type": "code",
   "execution_count": 82,
   "id": "e7529bd7",
   "metadata": {},
   "outputs": [
    {
     "name": "stdout",
     "output_type": "stream",
     "text": [
      "[[1, 2], [1, 1910], [1079, 2], [1079, 1910]]\n"
     ]
    }
   ],
   "source": [
    "print(b)"
   ]
  },
  {
   "cell_type": "code",
   "execution_count": 68,
   "id": "8487917e",
   "metadata": {},
   "outputs": [
    {
     "name": "stdout",
     "output_type": "stream",
     "text": [
      "(548, 1740)\n"
     ]
    },
    {
     "data": {
      "text/plain": [
       "True"
      ]
     },
     "execution_count": 68,
     "metadata": {},
     "output_type": "execute_result"
    }
   ],
   "source": [
    "image_path = 'C:\\\\content\\\\gan_dataset\\\\42.jpg'  # Replace with the path to your image\n",
    "image = cv2.imread(image_path)\n",
    "\n",
    "# Rectangle coordinates (top left and bottom right corners)\n",
    "rect_top_left = (smallest_coordinates[0], smallest_coordinates[1])  # Replace with actual coordinates\n",
    "rect_bottom_right = (largest_coordinates[0], largest_coordinates[1])  # Replace with actual coordinates\n",
    "\n",
    "# Calculate the center of the rectangle\n",
    "center_x = (rect_top_left[0] + rect_bottom_right[0]) // 2\n",
    "center_y = (rect_top_left[1] + rect_bottom_right[1]) // 2\n",
    "center_coordinates = (center_x, center_y)\n",
    "print(center_coordinates)\n",
    "\n",
    "# Calculate the radius as half the length of the shorter side of the rectangle\n",
    "radius = min(abs(rect_bottom_right[0] - rect_top_left[0]), abs(rect_bottom_right[1] - rect_top_left[1])) // 2\n",
    "\n",
    "# Draw the circle on the image\n",
    "cv2.circle(image, center_coordinates, radius, (0, 255, 0), 2)\n",
    "\n",
    "# Save the image with the circular boundary\n",
    "output_image_path = 'C:\\\\content\\\\Image_Patch_Swapping\\\\ROI_circle.jpg'\n",
    "cv2.imwrite(output_image_path, image)"
   ]
  },
  {
   "cell_type": "code",
   "execution_count": 69,
   "id": "8b19ec84",
   "metadata": {},
   "outputs": [
    {
     "name": "stdout",
     "output_type": "stream",
     "text": [
      "(877, 1014)\n"
     ]
    },
    {
     "data": {
      "text/plain": [
       "True"
      ]
     },
     "execution_count": 69,
     "metadata": {},
     "output_type": "execute_result"
    }
   ],
   "source": [
    "image_path = 'F:\\\\Icon Detection\\\\myvenv\\\\datasets1\\\\images\\\\val\\\\71588.jpg'  # Replace with the path to your image\n",
    "image = cv2.imread(image_path)\n",
    "\n",
    "# Rectangle coordinates (top left and bottom right corners)\n",
    "rect_top_left = (smallest_coordinates_l[0], smallest_coordinates_l[1])  # Replace with actual coordinates\n",
    "rect_bottom_right = (largest_coordinates_l[0], largest_coordinates_l[1])  # Replace with actual coordinates\n",
    "\n",
    "# Calculate the center of the rectangle\n",
    "center_x = (rect_top_left[0] + rect_bottom_right[0]) // 2\n",
    "center_y = (rect_top_left[1] + rect_bottom_right[1]) // 2\n",
    "center_coordinates = (center_x, center_y)\n",
    "print(center_coordinates)\n",
    "\n",
    "# Calculate the radius as half the length of the shorter side of the rectangle\n",
    "radius = min(abs(rect_bottom_right[0] - rect_top_left[0]), abs(rect_bottom_right[1] - rect_top_left[1])) // 2\n",
    "\n",
    "# Draw the circle on the image\n",
    "cv2.circle(image, center_coordinates, radius, (0, 255, 0), 2)\n",
    "\n",
    "# Save the image with the circular boundary\n",
    "output_image_path = 'C:\\\\content\\\\Image_Patch_Swapping\\\\ROI_circle_l.jpg'\n",
    "cv2.imwrite(output_image_path, image)"
   ]
  },
  {
   "cell_type": "code",
   "execution_count": 59,
   "id": "a1c7ba36",
   "metadata": {},
   "outputs": [
    {
     "name": "stdout",
     "output_type": "stream",
     "text": [
      "prad\n",
      "F:\\Icon Detection\\myvenv\\datasets\\images\\total\\2119.jpg\n"
     ]
    }
   ],
   "source": [
    "a='pradeep'[:-3]\n",
    "print(a)\n",
    "json_filename='2119.json'\n",
    "b=\"F:\\\\Icon Detection\\\\myvenv\\\\datasets\\\\images\\\\total\\\\\" + json_filename[:-5] +\".jpg\"\n",
    "print(b)"
   ]
  },
  {
   "cell_type": "code",
   "execution_count": null,
   "id": "c7abdd42",
   "metadata": {},
   "outputs": [],
   "source": []
  }
 ],
 "metadata": {
  "kernelspec": {
   "display_name": "Python 3 (ipykernel)",
   "language": "python",
   "name": "python3"
  },
  "language_info": {
   "codemirror_mode": {
    "name": "ipython",
    "version": 3
   },
   "file_extension": ".py",
   "mimetype": "text/x-python",
   "name": "python",
   "nbconvert_exporter": "python",
   "pygments_lexer": "ipython3",
   "version": "3.7.16"
  }
 },
 "nbformat": 4,
 "nbformat_minor": 5
}
